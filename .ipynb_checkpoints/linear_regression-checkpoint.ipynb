{
 "cells": [
  {
   "cell_type": "code",
   "execution_count": 13,
   "id": "4f72a543",
   "metadata": {},
   "outputs": [],
   "source": [
    "import pandas as pd\n",
    "import numpy as np\n",
    "import matplotlib.pyplot as plt\n",
    "import seaborn as sns\n",
    "from sklearn.preprocessing import StandardScaler\n",
    "from sklearn.cluster import KMeans\n",
    "import warnings\n",
    "warnings.filterwarnings('ignore')"
   ]
  },
  {
   "cell_type": "code",
   "execution_count": null,
   "id": "419ed77f",
   "metadata": {},
   "outputs": [],
   "source": [
    "# Load data\n",
    "data = pd.read_csv('Mall_Customers.csv')\n",
    "data"
   ]
  },
  {
   "cell_type": "code",
   "execution_count": null,
   "id": "57c28ba5",
   "metadata": {},
   "outputs": [],
   "source": [
    "# Check for null values\n",
    "print(\"Null Values:\")\n",
    "print(data.isnull().sum())"
   ]
  },
  {
   "cell_type": "code",
   "execution_count": null,
   "id": "cbaecc89",
   "metadata": {},
   "outputs": [],
   "source": [
    "# Descriptive statistics\n",
    "print(\"Descriptive Statistics:\")\n",
    "print(data.describe())"
   ]
  },
  {
   "cell_type": "code",
   "execution_count": null,
   "id": "636ba0c9",
   "metadata": {},
   "outputs": [],
   "source": [
    "data.shape"
   ]
  },
  {
   "cell_type": "code",
   "execution_count": null,
   "id": "3fd4b856",
   "metadata": {},
   "outputs": [],
   "source": [
    "data.columns"
   ]
  },
  {
   "cell_type": "code",
   "execution_count": null,
   "id": "f1542107",
   "metadata": {},
   "outputs": [],
   "source": [
    "# Explore unique values in 'Spending Score (1-100)' and 'Annual Income (k$)'\n",
    "print(\"Unique Values in Spending Score:\")\n",
    "print(data['Spending Score (1-100)'].value_counts().unique())"
   ]
  },
  {
   "cell_type": "code",
   "execution_count": null,
   "id": "e94488f0",
   "metadata": {},
   "outputs": [],
   "source": [
    "print(\"Value Counts for Annual Income:\")\n",
    "print(data['Annual Income (k$)'].value_counts())"
   ]
  },
  {
   "cell_type": "code",
   "execution_count": null,
   "id": "6e437e08",
   "metadata": {},
   "outputs": [],
   "source": [
    "# Select relevant features for clustering\n",
    "features = ['Age', 'Annual Income (k$)', 'Spending Score (1-100)']\n",
    "X = data[features]"
   ]
  },
  {
   "cell_type": "code",
   "execution_count": null,
   "id": "5df473ed",
   "metadata": {},
   "outputs": [],
   "source": [
    "# Standardize the features\n",
    "scaler = StandardScaler()\n",
    "X_scaled = scaler.fit_transform(X)"
   ]
  },
  {
   "cell_type": "code",
   "execution_count": null,
   "id": "17f2059b",
   "metadata": {},
   "outputs": [],
   "source": [
    "# Initialize K-means clustering algorithm\n",
    "num_clusters = 5\n",
    "kmeans = KMeans(n_clusters=num_clusters, random_state=42)"
   ]
  },
  {
   "cell_type": "code",
   "execution_count": null,
   "id": "0e505cdb",
   "metadata": {},
   "outputs": [],
   "source": [
    "# Fit model to scaled data\n",
    "kmeans.fit(X_scaled)\n",
    "# Add cluster labels to the original DataFrame\n",
    "data['Cluster'] = kmeans.labels_\n"
   ]
  },
  {
   "cell_type": "code",
   "execution_count": null,
   "id": "288279eb",
   "metadata": {},
   "outputs": [],
   "source": [
    "# Visualize clusters\n",
    "plt.scatter(data['Annual Income (k$)'], data['Spending Score (1-100)'], c=data['Cluster'], cmap='rainbow')\n",
    "plt.xlabel('Annual Income')\n",
    "plt.ylabel('Spending Score (1-100)')\n",
    "plt.title('K-means Clustering of Customers')\n",
    "plt.show()"
   ]
  },
  {
   "cell_type": "code",
   "execution_count": null,
   "id": "396cdae9",
   "metadata": {},
   "outputs": [],
   "source": [
    "# Print cluster centers\n",
    "cluster_centers_scaled = kmeans.cluster_centers_\n",
    "print(\"Cluster Centers (Scaled):\")\n",
    "print(cluster_centers_scaled)\n",
    "cluster_centers_original = scaler.inverse_transform(cluster_centers_scaled)\n",
    "print(\"Cluster Centers (Original):\")\n",
    "print(cluster_centers_original)"
   ]
  },
  {
   "cell_type": "code",
   "execution_count": null,
   "id": "1bdd2458",
   "metadata": {},
   "outputs": [],
   "source": [
    "# Visualize cluster profiles\n",
    "for cluster_id in range(num_clusters):\n",
    "    cluster_data = data[data['Cluster'] == cluster_id]\n",
    "    plt.scatter(cluster_data['Annual Income (k$)'], cluster_data['Spending Score (1-100)'], label=f'Cluster {cluster_id}')\n",
    "plt.xlabel('Annual Income')\n",
    "plt.ylabel('Spending Score (1-100)')\n",
    "plt.title('Cluster Profiles')\n",
    "plt.legend()\n",
    "plt.show()"
   ]
  },
  {
   "cell_type": "code",
   "execution_count": null,
   "id": "65f6c8c9",
   "metadata": {},
   "outputs": [],
   "source": [
    "# Box plots for each feature within each cluster\n",
    "for feature in features:\n",
    "    plt.figure(figsize=(8, 6))\n",
    "    sns.boxplot(x='Cluster', y=feature, data=data)\n",
    "    plt.title(f'Box Plot of {feature} by Cluster')\n",
    "    plt.show()"
   ]
  },
  {
   "cell_type": "code",
   "execution_count": null,
   "id": "aa149df3",
   "metadata": {},
   "outputs": [],
   "source": [
    "# Pair plot colored by cluster\n",
    "sns.pairplot(data=data, hue='Cluster', diag_kind='kde')\n",
    "plt.title('Pair Plot Colored by Cluster')\n",
    "plt.show()"
   ]
  },
  {
   "cell_type": "code",
   "execution_count": null,
   "id": "fea699cb",
   "metadata": {},
   "outputs": [],
   "source": [
    "# Distribution plots for each feature within each cluster\n",
    "for feature in features:\n",
    "    plt.figure(figsize=(8, 6))\n",
    "    for cluster_id in range(num_clusters):\n",
    "        cluster_data = data[data['Cluster'] == cluster_id]\n",
    "        sns.histplot(cluster_data[feature], label=f'Cluster {cluster_id}', kde=True)\n",
    "    plt.title(f'Distribution of {feature} by Cluster')\n",
    "    plt.legend()\n",
    "    plt.show()"
   ]
  },
  {
   "cell_type": "code",
   "execution_count": null,
   "id": "ad19c983",
   "metadata": {},
   "outputs": [],
   "source": [
    "# Function to perform K-means clustering\n",
    "def perform_clustering():\n",
    "    try:\n",
    "        num_clusters = int(cluster_entry.get())\n",
    "        data = pd.read_csv(r'E:\\prodegy\\TASK2\\PRODIGY_ML_02\\Mall_Customers.csv')\n",
    "        X = data[['Annual Income (k$)', 'Spending Score (1-100)']]\n",
    "        \n",
    "        kmeans = KMeans(n_clusters=num_clusters, random_state=0).fit(X)\n",
    "        labels = kmeans.labels_\n",
    "        \n",
    "        plt.figure(figsize=(8, 6))\n",
    "        plt.scatter(X.iloc[:, 0], X.iloc[:, 1], c=labels, cmap='viridis')\n",
    "        plt.scatter(kmeans.cluster_centers_[:, 0], kmeans.cluster_centers_[:, 1], s=300, c='red')\n",
    "        plt.xlabel('Annual Income (k$)')\n",
    "        plt.ylabel('Spending Score (1-100)')\n",
    "        plt.title('K-means Clustering')\n",
    "        plt.show()\n",
    "\n",
    "    except ValueError:\n",
    "        messagebox.showerror(\"Error\", \"Please enter a valid number of clusters.\")"
   ]
  },
  {
   "cell_type": "code",
   "execution_count": null,
   "id": "541ed736",
   "metadata": {},
   "outputs": [],
   "source": [
    "#GUI setup\n",
    "import tkinter as tk\n",
    "from tkinter import ttk\n",
    "from tkinter import messagebox"
   ]
  },
  {
   "cell_type": "code",
   "execution_count": 34,
   "id": "31495edd",
   "metadata": {},
   "outputs": [],
   "source": [
    "# Function to perform K-means clustering\n",
    "def perform_clustering():\n",
    "    try:\n",
    "        num_clusters = int(cluster_entry.get())\n",
    "        data = pd.read_csv('Mall_Customers.csv')\n",
    "        X = data[['Annual Income (k$)', 'Spending Score (1-100)']]\n",
    "        \n",
    "        kmeans = KMeans(n_clusters=num_clusters, random_state=0).fit(X)\n",
    "        labels = kmeans.labels_\n",
    "        \n",
    "        plt.figure(figsize=(8, 6))\n",
    "        plt.scatter(X.iloc[:, 0], X.iloc[:, 1], c=labels, cmap='viridis')\n",
    "        plt.scatter(kmeans.cluster_centers_[:, 0], kmeans.cluster_centers_[:, 1], s=300, c='red')\n",
    "        plt.xlabel('Annual Income (k$)')\n",
    "        plt.ylabel('Spending Score (1-100)')\n",
    "        plt.title('K-means Clustering')\n",
    "        plt.show()\n",
    "\n",
    "    except ValueError:\n",
    "        messagebox.showerror(\"Error\", \"Please enter a valid number of clusters.\")\n",
    "\n",
    "root = tk.Tk()\n",
    "root.title(\"Customer Segmentation\")\n",
    "\n",
    "frame = ttk.Frame(root, padding=\"20\")\n",
    "frame.grid(column=0, row=0, sticky=(tk.W, tk.E, tk.N, tk.S))\n",
    "\n",
    "ttk.Label(frame, text=\"Number of Clusters:\").grid(column=0, row=0, sticky=tk.W)\n",
    "cluster_entry = ttk.Entry(frame)\n",
    "cluster_entry.grid(column=1, row=0)\n",
    "\n",
    "cluster_button = ttk.Button(frame, text=\"Perform Clustering\", command=perform_clustering)\n",
    "cluster_button.grid(column=0, row=1, columnspan=2)\n",
    "\n",
    "root.mainloop()"
   ]
  },
  {
   "cell_type": "code",
   "execution_count": null,
   "id": "4ef53bed",
   "metadata": {},
   "outputs": [],
   "source": []
  },
  {
   "cell_type": "code",
   "execution_count": null,
   "id": "a994d578",
   "metadata": {},
   "outputs": [],
   "source": []
  }
 ],
 "metadata": {
  "kernelspec": {
   "display_name": "Python 3 (ipykernel)",
   "language": "python",
   "name": "python3"
  },
  "language_info": {
   "codemirror_mode": {
    "name": "ipython",
    "version": 3
   },
   "file_extension": ".py",
   "mimetype": "text/x-python",
   "name": "python",
   "nbconvert_exporter": "python",
   "pygments_lexer": "ipython3",
   "version": "3.9.13"
  }
 },
 "nbformat": 4,
 "nbformat_minor": 5
}
